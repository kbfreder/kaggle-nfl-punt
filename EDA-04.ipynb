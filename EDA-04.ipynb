{
 "cells": [
  {
   "cell_type": "code",
   "execution_count": 1,
   "metadata": {},
   "outputs": [],
   "source": [
    "import pandas as pd\n",
    "import matplotlib.pyplot as plt\n",
    "import numpy as np"
   ]
  },
  {
   "cell_type": "code",
   "execution_count": 56,
   "metadata": {},
   "outputs": [],
   "source": [
    "import scipy.stats as stats"
   ]
  },
  {
   "cell_type": "code",
   "execution_count": 2,
   "metadata": {},
   "outputs": [],
   "source": [
    "vr = pd.read_csv('video_review.csv')\n",
    "pprd = pd.read_csv('play_player_role_data.csv')\n",
    "ppd = pd.read_csv('player_punt_data.csv')\n",
    "pi = pd.read_csv('play_information.csv')\n",
    "gd = pd.read_csv('game_data.csv')"
   ]
  },
  {
   "cell_type": "markdown",
   "metadata": {},
   "source": [
    "### Merge df's to get player role in punt play and normal position"
   ]
  },
  {
   "cell_type": "code",
   "execution_count": 3,
   "metadata": {},
   "outputs": [],
   "source": [
    "df1 = pd.merge(vr, pprd.drop(columns='Season_Year'), how='left', on=['GameKey', 'PlayID', 'GSISID'], copy=False)\n",
    "df1 = pd.merge(df1, ppd.drop(columns='Number'), how='left', on='GSISID', copy=False)\n",
    "\n",
    "pi_cols_to_drop = ['Season_Year', 'Season_Type', 'Game_Date', 'Week',\n",
    "       'Quarter', 'Play_Type', 'Poss_Team',\n",
    "       'Home_Team_Visit_Team', 'PlayDescription']\n",
    "\n",
    "df1 = pd.merge(df1, pi.drop(columns=pi_cols_to_drop), how='left', on=['GameKey', 'PlayID'], copy=False)"
   ]
  },
  {
   "cell_type": "markdown",
   "metadata": {},
   "source": [
    "### pull out data for first injury in video_review table"
   ]
  },
  {
   "cell_type": "code",
   "execution_count": 4,
   "metadata": {},
   "outputs": [
    {
     "data": {
      "text/plain": [
       "Season_Year                                   2016\n",
       "GameKey                                          5\n",
       "PlayID                                        3129\n",
       "GSISID                                       31057\n",
       "Player_Activity_Derived                   Tackling\n",
       "Turnover_Related                                No\n",
       "Primary_Impact_Type                 Helmet-to-body\n",
       "Primary_Partner_GSISID                       32482\n",
       "Primary_Partner_Activity_Derived           Tackled\n",
       "Friendly_Fire                                   No\n",
       "Name: 0, dtype: object"
      ]
     },
     "execution_count": 4,
     "metadata": {},
     "output_type": "execute_result"
    }
   ],
   "source": [
    "vr.loc[0]"
   ]
  },
  {
   "cell_type": "code",
   "execution_count": 6,
   "metadata": {},
   "outputs": [],
   "source": [
    "ngs_16_pre = pd.read_csv('NGS-2016-pre.csv', parse_dates=['Time'])\n",
    "ngs_16_pre.sort_values(by='Time', ascending=True, inplace=True)"
   ]
  },
  {
   "cell_type": "code",
   "execution_count": 7,
   "metadata": {},
   "outputs": [],
   "source": [
    "def get_play_info(gk, pid):\n",
    "    return pi[(pi['GameKey'] == gk) & (pi['PlayID'] == pid)]"
   ]
  },
  {
   "cell_type": "code",
   "execution_count": 8,
   "metadata": {},
   "outputs": [],
   "source": [
    "pi1 = get_play_info(5, 3129)"
   ]
  },
  {
   "cell_type": "code",
   "execution_count": 9,
   "metadata": {},
   "outputs": [
    {
     "data": {
      "text/html": [
       "<div>\n",
       "<style scoped>\n",
       "    .dataframe tbody tr th:only-of-type {\n",
       "        vertical-align: middle;\n",
       "    }\n",
       "\n",
       "    .dataframe tbody tr th {\n",
       "        vertical-align: top;\n",
       "    }\n",
       "\n",
       "    .dataframe thead th {\n",
       "        text-align: right;\n",
       "    }\n",
       "</style>\n",
       "<table border=\"1\" class=\"dataframe\">\n",
       "  <thead>\n",
       "    <tr style=\"text-align: right;\">\n",
       "      <th></th>\n",
       "      <th>Season_Year</th>\n",
       "      <th>Season_Type</th>\n",
       "      <th>GameKey</th>\n",
       "      <th>Game_Date</th>\n",
       "      <th>Week</th>\n",
       "      <th>PlayID</th>\n",
       "      <th>Game_Clock</th>\n",
       "      <th>YardLine</th>\n",
       "      <th>Quarter</th>\n",
       "      <th>Play_Type</th>\n",
       "      <th>Poss_Team</th>\n",
       "      <th>Home_Team_Visit_Team</th>\n",
       "      <th>Score_Home_Visiting</th>\n",
       "      <th>PlayDescription</th>\n",
       "    </tr>\n",
       "  </thead>\n",
       "  <tbody>\n",
       "    <tr>\n",
       "      <th>35</th>\n",
       "      <td>2016</td>\n",
       "      <td>Pre</td>\n",
       "      <td>5</td>\n",
       "      <td>08/11/2016</td>\n",
       "      <td>2</td>\n",
       "      <td>3129</td>\n",
       "      <td>03:44</td>\n",
       "      <td>CHI 31</td>\n",
       "      <td>3</td>\n",
       "      <td>Punt</td>\n",
       "      <td>CHI</td>\n",
       "      <td>CHI-DEN</td>\n",
       "      <td>0 - 22</td>\n",
       "      <td>(3:44) (Punt formation) P.O'Donnell punts 58 y...</td>\n",
       "    </tr>\n",
       "  </tbody>\n",
       "</table>\n",
       "</div>"
      ],
      "text/plain": [
       "    Season_Year Season_Type  GameKey   Game_Date  Week  PlayID Game_Clock  \\\n",
       "35         2016         Pre        5  08/11/2016     2    3129      03:44   \n",
       "\n",
       "   YardLine  Quarter Play_Type Poss_Team Home_Team_Visit_Team  \\\n",
       "35   CHI 31        3      Punt       CHI              CHI-DEN   \n",
       "\n",
       "   Score_Home_Visiting                                    PlayDescription  \n",
       "35              0 - 22  (3:44) (Punt formation) P.O'Donnell punts 58 y...  "
      ]
     },
     "execution_count": 9,
     "metadata": {},
     "output_type": "execute_result"
    }
   ],
   "source": [
    "pi1"
   ]
  },
  {
   "cell_type": "code",
   "execution_count": 10,
   "metadata": {},
   "outputs": [],
   "source": [
    "def get_play_ngs(gk, pid, df):\n",
    "    new_df = df[(df['GameKey'] == gk) & (df['PlayID'] == pid)]\n",
    "    new_df = new_df.drop(columns=['GameKey', 'PlayID', 'Season_Year'])\n",
    "    return new_df"
   ]
  },
  {
   "cell_type": "code",
   "execution_count": 40,
   "metadata": {},
   "outputs": [],
   "source": [
    "ngs1 = get_play_ngs(5, 3129, ngs_16_pre)\n",
    "ngs1.reset_index(drop=True, inplace=True)"
   ]
  },
  {
   "cell_type": "code",
   "execution_count": 41,
   "metadata": {},
   "outputs": [
    {
     "data": {
      "text/html": [
       "<div>\n",
       "<style scoped>\n",
       "    .dataframe tbody tr th:only-of-type {\n",
       "        vertical-align: middle;\n",
       "    }\n",
       "\n",
       "    .dataframe tbody tr th {\n",
       "        vertical-align: top;\n",
       "    }\n",
       "\n",
       "    .dataframe thead th {\n",
       "        text-align: right;\n",
       "    }\n",
       "</style>\n",
       "<table border=\"1\" class=\"dataframe\">\n",
       "  <thead>\n",
       "    <tr style=\"text-align: right;\">\n",
       "      <th></th>\n",
       "      <th>GSISID</th>\n",
       "      <th>Time</th>\n",
       "      <th>x</th>\n",
       "      <th>y</th>\n",
       "      <th>dis</th>\n",
       "      <th>o</th>\n",
       "      <th>dir</th>\n",
       "      <th>Event</th>\n",
       "    </tr>\n",
       "  </thead>\n",
       "  <tbody>\n",
       "    <tr>\n",
       "      <th>0</th>\n",
       "      <td>32460.0</td>\n",
       "      <td>2016-08-12 02:07:25.100</td>\n",
       "      <td>76.769997</td>\n",
       "      <td>24.270000</td>\n",
       "      <td>0.02</td>\n",
       "      <td>334.989990</td>\n",
       "      <td>313.079987</td>\n",
       "      <td>punt_play</td>\n",
       "    </tr>\n",
       "    <tr>\n",
       "      <th>1</th>\n",
       "      <td>31902.0</td>\n",
       "      <td>2016-08-12 02:07:25.100</td>\n",
       "      <td>81.160004</td>\n",
       "      <td>28.850000</td>\n",
       "      <td>0.02</td>\n",
       "      <td>256.940002</td>\n",
       "      <td>340.220001</td>\n",
       "      <td>punt_play</td>\n",
       "    </tr>\n",
       "    <tr>\n",
       "      <th>2</th>\n",
       "      <td>32776.0</td>\n",
       "      <td>2016-08-12 02:07:25.100</td>\n",
       "      <td>80.660004</td>\n",
       "      <td>43.320000</td>\n",
       "      <td>0.04</td>\n",
       "      <td>140.419998</td>\n",
       "      <td>293.029999</td>\n",
       "      <td>punt_play</td>\n",
       "    </tr>\n",
       "    <tr>\n",
       "      <th>3</th>\n",
       "      <td>32790.0</td>\n",
       "      <td>2016-08-12 02:07:25.100</td>\n",
       "      <td>84.389999</td>\n",
       "      <td>25.889999</td>\n",
       "      <td>0.04</td>\n",
       "      <td>218.240005</td>\n",
       "      <td>308.829987</td>\n",
       "      <td>punt_play</td>\n",
       "    </tr>\n",
       "    <tr>\n",
       "      <th>4</th>\n",
       "      <td>31079.0</td>\n",
       "      <td>2016-08-12 02:07:25.100</td>\n",
       "      <td>93.300003</td>\n",
       "      <td>27.129999</td>\n",
       "      <td>0.12</td>\n",
       "      <td>175.570007</td>\n",
       "      <td>265.540009</td>\n",
       "      <td>punt_play</td>\n",
       "    </tr>\n",
       "  </tbody>\n",
       "</table>\n",
       "</div>"
      ],
      "text/plain": [
       "    GSISID                    Time          x          y   dis           o  \\\n",
       "0  32460.0 2016-08-12 02:07:25.100  76.769997  24.270000  0.02  334.989990   \n",
       "1  31902.0 2016-08-12 02:07:25.100  81.160004  28.850000  0.02  256.940002   \n",
       "2  32776.0 2016-08-12 02:07:25.100  80.660004  43.320000  0.04  140.419998   \n",
       "3  32790.0 2016-08-12 02:07:25.100  84.389999  25.889999  0.04  218.240005   \n",
       "4  31079.0 2016-08-12 02:07:25.100  93.300003  27.129999  0.12  175.570007   \n",
       "\n",
       "          dir      Event  \n",
       "0  313.079987  punt_play  \n",
       "1  340.220001  punt_play  \n",
       "2  293.029999  punt_play  \n",
       "3  308.829987  punt_play  \n",
       "4  265.540009  punt_play  "
      ]
     },
     "execution_count": 41,
     "metadata": {},
     "output_type": "execute_result"
    }
   ],
   "source": [
    "ngs1.head()"
   ]
  },
  {
   "cell_type": "code",
   "execution_count": 42,
   "metadata": {},
   "outputs": [
    {
     "data": {
      "text/plain": [
       "5962"
      ]
     },
     "execution_count": 42,
     "metadata": {},
     "output_type": "execute_result"
    }
   ],
   "source": [
    "len(ngs1)"
   ]
  },
  {
   "cell_type": "markdown",
   "metadata": {},
   "source": [
    "Note there is ~ 1 second of data missing for GSISID 31209 around 02:07:40, which is not the player that got injured (31057)"
   ]
  },
  {
   "cell_type": "markdown",
   "metadata": {},
   "source": [
    "### Calculate distance from x & y"
   ]
  },
  {
   "cell_type": "code",
   "execution_count": 43,
   "metadata": {},
   "outputs": [],
   "source": [
    "ngs1['dt'] = ngs1.groupby('GSISID')['Time'].diff()\n",
    "ngs1['dt'] = ngs1['dt'].apply(lambda x: x.total_seconds())\n",
    "\n",
    "ngs1['dx'] = ngs1.groupby('GSISID')['x'].diff()\n",
    "ngs1['dy'] = ngs1.groupby('GSISID')['y'].diff()\n",
    "ngs1['dist'] = np.sqrt(ngs1['dx']**2 + ngs1['dy']**2) * 0.9144\n",
    "\n",
    "ngs1['speed'] = ngs1['dist'] / ngs1['dt']\n",
    "ngs1['d_speed'] = ngs1.groupby('GSISID')['speed'].diff()\n",
    "ngs1['accel'] = ngs1['d_speed'] / ngs1['dt']"
   ]
  },
  {
   "cell_type": "code",
   "execution_count": 44,
   "metadata": {},
   "outputs": [
    {
     "data": {
      "text/html": [
       "<div>\n",
       "<style scoped>\n",
       "    .dataframe tbody tr th:only-of-type {\n",
       "        vertical-align: middle;\n",
       "    }\n",
       "\n",
       "    .dataframe tbody tr th {\n",
       "        vertical-align: top;\n",
       "    }\n",
       "\n",
       "    .dataframe thead th {\n",
       "        text-align: right;\n",
       "    }\n",
       "</style>\n",
       "<table border=\"1\" class=\"dataframe\">\n",
       "  <thead>\n",
       "    <tr style=\"text-align: right;\">\n",
       "      <th></th>\n",
       "      <th>GSISID</th>\n",
       "      <th>Time</th>\n",
       "      <th>x</th>\n",
       "      <th>y</th>\n",
       "      <th>dis</th>\n",
       "      <th>o</th>\n",
       "      <th>dir</th>\n",
       "      <th>Event</th>\n",
       "      <th>dt</th>\n",
       "      <th>dx</th>\n",
       "      <th>dy</th>\n",
       "      <th>dist</th>\n",
       "      <th>speed</th>\n",
       "      <th>d_speed</th>\n",
       "      <th>accel</th>\n",
       "    </tr>\n",
       "  </thead>\n",
       "  <tbody>\n",
       "    <tr>\n",
       "      <th>5957</th>\n",
       "      <td>31915.0</td>\n",
       "      <td>2016-08-12 02:07:51.900</td>\n",
       "      <td>29.160000</td>\n",
       "      <td>5.40</td>\n",
       "      <td>0.09</td>\n",
       "      <td>10.200000</td>\n",
       "      <td>101.980003</td>\n",
       "      <td>play_submit</td>\n",
       "      <td>0.1</td>\n",
       "      <td>0.090000</td>\n",
       "      <td>-0.02</td>\n",
       "      <td>0.084304</td>\n",
       "      <td>0.843036</td>\n",
       "      <td>-0.075927</td>\n",
       "      <td>-0.759274</td>\n",
       "    </tr>\n",
       "    <tr>\n",
       "      <th>5958</th>\n",
       "      <td>32482.0</td>\n",
       "      <td>2016-08-12 02:07:51.900</td>\n",
       "      <td>36.320000</td>\n",
       "      <td>2.61</td>\n",
       "      <td>0.18</td>\n",
       "      <td>301.019989</td>\n",
       "      <td>32.540001</td>\n",
       "      <td>play_submit</td>\n",
       "      <td>0.1</td>\n",
       "      <td>0.090000</td>\n",
       "      <td>0.15</td>\n",
       "      <td>0.159955</td>\n",
       "      <td>1.599546</td>\n",
       "      <td>-0.079070</td>\n",
       "      <td>-0.790703</td>\n",
       "    </tr>\n",
       "    <tr>\n",
       "      <th>5959</th>\n",
       "      <td>31209.0</td>\n",
       "      <td>2016-08-12 02:07:51.900</td>\n",
       "      <td>34.950001</td>\n",
       "      <td>4.41</td>\n",
       "      <td>0.16</td>\n",
       "      <td>58.439999</td>\n",
       "      <td>143.809998</td>\n",
       "      <td>play_submit</td>\n",
       "      <td>0.1</td>\n",
       "      <td>0.100002</td>\n",
       "      <td>-0.13</td>\n",
       "      <td>0.149974</td>\n",
       "      <td>1.499741</td>\n",
       "      <td>0.168363</td>\n",
       "      <td>1.683631</td>\n",
       "    </tr>\n",
       "    <tr>\n",
       "      <th>5960</th>\n",
       "      <td>31057.0</td>\n",
       "      <td>2016-08-12 02:07:51.900</td>\n",
       "      <td>32.759998</td>\n",
       "      <td>1.94</td>\n",
       "      <td>0.10</td>\n",
       "      <td>219.080002</td>\n",
       "      <td>185.369995</td>\n",
       "      <td>play_submit</td>\n",
       "      <td>0.1</td>\n",
       "      <td>0.090000</td>\n",
       "      <td>-0.04</td>\n",
       "      <td>0.090058</td>\n",
       "      <td>0.900581</td>\n",
       "      <td>0.254007</td>\n",
       "      <td>2.540075</td>\n",
       "    </tr>\n",
       "    <tr>\n",
       "      <th>5961</th>\n",
       "      <td>32776.0</td>\n",
       "      <td>2016-08-12 02:07:51.900</td>\n",
       "      <td>40.610001</td>\n",
       "      <td>4.89</td>\n",
       "      <td>0.11</td>\n",
       "      <td>155.190002</td>\n",
       "      <td>156.259995</td>\n",
       "      <td>play_submit</td>\n",
       "      <td>0.1</td>\n",
       "      <td>0.010002</td>\n",
       "      <td>-0.11</td>\n",
       "      <td>0.100999</td>\n",
       "      <td>1.009991</td>\n",
       "      <td>0.431684</td>\n",
       "      <td>4.316837</td>\n",
       "    </tr>\n",
       "  </tbody>\n",
       "</table>\n",
       "</div>"
      ],
      "text/plain": [
       "       GSISID                    Time          x     y   dis           o  \\\n",
       "5957  31915.0 2016-08-12 02:07:51.900  29.160000  5.40  0.09   10.200000   \n",
       "5958  32482.0 2016-08-12 02:07:51.900  36.320000  2.61  0.18  301.019989   \n",
       "5959  31209.0 2016-08-12 02:07:51.900  34.950001  4.41  0.16   58.439999   \n",
       "5960  31057.0 2016-08-12 02:07:51.900  32.759998  1.94  0.10  219.080002   \n",
       "5961  32776.0 2016-08-12 02:07:51.900  40.610001  4.89  0.11  155.190002   \n",
       "\n",
       "             dir        Event   dt        dx    dy      dist     speed  \\\n",
       "5957  101.980003  play_submit  0.1  0.090000 -0.02  0.084304  0.843036   \n",
       "5958   32.540001  play_submit  0.1  0.090000  0.15  0.159955  1.599546   \n",
       "5959  143.809998  play_submit  0.1  0.100002 -0.13  0.149974  1.499741   \n",
       "5960  185.369995  play_submit  0.1  0.090000 -0.04  0.090058  0.900581   \n",
       "5961  156.259995  play_submit  0.1  0.010002 -0.11  0.100999  1.009991   \n",
       "\n",
       "       d_speed     accel  \n",
       "5957 -0.075927 -0.759274  \n",
       "5958 -0.079070 -0.790703  \n",
       "5959  0.168363  1.683631  \n",
       "5960  0.254007  2.540075  \n",
       "5961  0.431684  4.316837  "
      ]
     },
     "execution_count": 44,
     "metadata": {},
     "output_type": "execute_result"
    }
   ],
   "source": [
    "ngs1.tail()"
   ]
  },
  {
   "cell_type": "code",
   "execution_count": 45,
   "metadata": {},
   "outputs": [],
   "source": [
    "ngs1_p1 = ngs1[ngs1['GSISID'] == 31057]"
   ]
  },
  {
   "cell_type": "code",
   "execution_count": 46,
   "metadata": {},
   "outputs": [],
   "source": [
    "def plot_player_speed(gid):\n",
    "    df = ngs1[ngs1['GSISID'] == gid]\n",
    "    xs = df['Time']\n",
    "    plt.plot(xs, df['speed'], label='Speed')\n",
    "    plt.plot(xs, df['accel'], label='Accel', alpha=0.4)\n",
    "    plt.title(f'Player ID {gid}')\n",
    "    plt.legend();"
   ]
  },
  {
   "cell_type": "code",
   "execution_count": 47,
   "metadata": {},
   "outputs": [
    {
     "data": {
      "image/png": "[encoded data removed]",
      "text/plain": [
       "<Figure size 432x288 with 1 Axes>"
      ]
     },
     "metadata": {
      "needs_background": "light"
     },
     "output_type": "display_data"
    }
   ],
   "source": [
    "plot_player_speed(31057)"
   ]
  },
  {
   "cell_type": "code",
   "execution_count": 48,
   "metadata": {},
   "outputs": [
    {
     "data": {
      "image/png": "[encoded data removed]",
      "text/plain": [
       "<Figure size 432x288 with 1 Axes>"
      ]
     },
     "metadata": {
      "needs_background": "light"
     },
     "output_type": "display_data"
    }
   ],
   "source": [
    "plot_player_speed(32482)"
   ]
  },
  {
   "cell_type": "markdown",
   "metadata": {},
   "source": [
    "Does injured player experience the highest deceleration?"
   ]
  },
  {
   "cell_type": "code",
   "execution_count": 49,
   "metadata": {},
   "outputs": [
    {
     "data": {
      "text/plain": [
       "count    5916.000000\n",
       "mean        0.076367\n",
       "std         4.499360\n",
       "min       -29.509120\n",
       "25%        -1.130122\n",
       "50%         0.000000\n",
       "75%         1.130364\n",
       "max       268.335944\n",
       "Name: accel, dtype: float64"
      ]
     },
     "execution_count": 49,
     "metadata": {},
     "output_type": "execute_result"
    }
   ],
   "source": [
    "ngs1['accel'].describe()"
   ]
  },
  {
   "cell_type": "code",
   "execution_count": 51,
   "metadata": {},
   "outputs": [
    {
     "data": {
      "text/plain": [
       "count    2.670000e+02\n",
       "mean     4.670167e-03\n",
       "std      3.411310e+00\n",
       "min     -1.568354e+01\n",
       "25%     -1.495045e+00\n",
       "50%     -2.298162e-13\n",
       "75%      1.203802e+00\n",
       "max      1.292479e+01\n",
       "Name: accel, dtype: float64"
      ]
     },
     "execution_count": 51,
     "metadata": {},
     "output_type": "execute_result"
    }
   ],
   "source": [
    "ngs1_p1['accel'].describe()"
   ]
  },
  {
   "cell_type": "markdown",
   "metadata": {},
   "source": [
    "No."
   ]
  },
  {
   "cell_type": "markdown",
   "metadata": {},
   "source": [
    "Need to clean up the accel's"
   ]
  },
  {
   "cell_type": "code",
   "execution_count": 36,
   "metadata": {},
   "outputs": [
    {
     "data": {
      "image/png": "[encoded data removed]",
      "text/plain": [
       "<Figure size 432x288 with 1 Axes>"
      ]
     },
     "metadata": {
      "needs_background": "light"
     },
     "output_type": "display_data"
    }
   ],
   "source": [
    "plt.hist(ngs1['accel'], cumulative=True, density=1, bins=30, histtype='step');"
   ]
  },
  {
   "cell_type": "code",
   "execution_count": 52,
   "metadata": {},
   "outputs": [
    {
     "data": {
      "text/html": [
       "<div>\n",
       "<style scoped>\n",
       "    .dataframe tbody tr th:only-of-type {\n",
       "        vertical-align: middle;\n",
       "    }\n",
       "\n",
       "    .dataframe tbody tr th {\n",
       "        vertical-align: top;\n",
       "    }\n",
       "\n",
       "    .dataframe thead th {\n",
       "        text-align: right;\n",
       "    }\n",
       "</style>\n",
       "<table border=\"1\" class=\"dataframe\">\n",
       "  <thead>\n",
       "    <tr style=\"text-align: right;\">\n",
       "      <th></th>\n",
       "      <th>GSISID</th>\n",
       "      <th>Time</th>\n",
       "      <th>x</th>\n",
       "      <th>y</th>\n",
       "      <th>dis</th>\n",
       "      <th>o</th>\n",
       "      <th>dir</th>\n",
       "      <th>Event</th>\n",
       "      <th>dt</th>\n",
       "      <th>dx</th>\n",
       "      <th>dy</th>\n",
       "      <th>dist</th>\n",
       "      <th>speed</th>\n",
       "      <th>d_speed</th>\n",
       "      <th>accel</th>\n",
       "    </tr>\n",
       "  </thead>\n",
       "  <tbody>\n",
       "    <tr>\n",
       "      <th>2138</th>\n",
       "      <td>33064.0</td>\n",
       "      <td>2016-08-12 02:07:34.300</td>\n",
       "      <td>64.199997</td>\n",
       "      <td>51.049999</td>\n",
       "      <td>2.94</td>\n",
       "      <td>161.490005</td>\n",
       "      <td>303.01001</td>\n",
       "      <td>NaN</td>\n",
       "      <td>0.1</td>\n",
       "      <td>-2.460007</td>\n",
       "      <td>1.599998</td>\n",
       "      <td>2.683359</td>\n",
       "      <td>26.833594</td>\n",
       "      <td>26.833594</td>\n",
       "      <td>268.335944</td>\n",
       "    </tr>\n",
       "  </tbody>\n",
       "</table>\n",
       "</div>"
      ],
      "text/plain": [
       "       GSISID                    Time          x          y   dis           o  \\\n",
       "2138  33064.0 2016-08-12 02:07:34.300  64.199997  51.049999  2.94  161.490005   \n",
       "\n",
       "            dir Event   dt        dx        dy      dist      speed  \\\n",
       "2138  303.01001   NaN  0.1 -2.460007  1.599998  2.683359  26.833594   \n",
       "\n",
       "        d_speed       accel  \n",
       "2138  26.833594  268.335944  "
      ]
     },
     "execution_count": 52,
     "metadata": {},
     "output_type": "execute_result"
    }
   ],
   "source": [
    "ngs1[ngs1['accel'] > 50]"
   ]
  },
  {
   "cell_type": "code",
   "execution_count": 53,
   "metadata": {},
   "outputs": [],
   "source": [
    "def get_player_xys(df, gid):\n",
    "    return df[df['GSISID'] == gid]"
   ]
  },
  {
   "cell_type": "code",
   "execution_count": 54,
   "metadata": {},
   "outputs": [],
   "source": [
    "temp = get_player_xys(ngs1, 33064.0)"
   ]
  },
  {
   "cell_type": "code",
   "execution_count": 69,
   "metadata": {},
   "outputs": [
    {
     "data": {
      "text/html": [
       "<div>\n",
       "<style scoped>\n",
       "    .dataframe tbody tr th:only-of-type {\n",
       "        vertical-align: middle;\n",
       "    }\n",
       "\n",
       "    .dataframe tbody tr th {\n",
       "        vertical-align: top;\n",
       "    }\n",
       "\n",
       "    .dataframe thead th {\n",
       "        text-align: right;\n",
       "    }\n",
       "</style>\n",
       "<table border=\"1\" class=\"dataframe\">\n",
       "  <thead>\n",
       "    <tr style=\"text-align: right;\">\n",
       "      <th></th>\n",
       "      <th>GSISID</th>\n",
       "      <th>Time</th>\n",
       "      <th>x</th>\n",
       "      <th>y</th>\n",
       "      <th>dis</th>\n",
       "      <th>o</th>\n",
       "      <th>dir</th>\n",
       "      <th>Event</th>\n",
       "      <th>dt</th>\n",
       "      <th>dx</th>\n",
       "      <th>dy</th>\n",
       "      <th>dist</th>\n",
       "      <th>speed</th>\n",
       "      <th>d_speed</th>\n",
       "      <th>accel</th>\n",
       "    </tr>\n",
       "  </thead>\n",
       "  <tbody>\n",
       "    <tr>\n",
       "      <th>2041</th>\n",
       "      <td>33064.0</td>\n",
       "      <td>2016-08-12 02:07:33.900</td>\n",
       "      <td>66.660004</td>\n",
       "      <td>49.450001</td>\n",
       "      <td>0.00</td>\n",
       "      <td>161.539993</td>\n",
       "      <td>40.470001</td>\n",
       "      <td>NaN</td>\n",
       "      <td>0.1</td>\n",
       "      <td>0.000000</td>\n",
       "      <td>0.000000</td>\n",
       "      <td>0.000000</td>\n",
       "      <td>0.000000</td>\n",
       "      <td>0.000000</td>\n",
       "      <td>0.000000</td>\n",
       "    </tr>\n",
       "    <tr>\n",
       "      <th>2069</th>\n",
       "      <td>33064.0</td>\n",
       "      <td>2016-08-12 02:07:34.000</td>\n",
       "      <td>66.660004</td>\n",
       "      <td>49.450001</td>\n",
       "      <td>0.00</td>\n",
       "      <td>161.520004</td>\n",
       "      <td>53.549999</td>\n",
       "      <td>NaN</td>\n",
       "      <td>0.1</td>\n",
       "      <td>0.000000</td>\n",
       "      <td>0.000000</td>\n",
       "      <td>0.000000</td>\n",
       "      <td>0.000000</td>\n",
       "      <td>0.000000</td>\n",
       "      <td>0.000000</td>\n",
       "    </tr>\n",
       "    <tr>\n",
       "      <th>2088</th>\n",
       "      <td>33064.0</td>\n",
       "      <td>2016-08-12 02:07:34.100</td>\n",
       "      <td>66.660004</td>\n",
       "      <td>49.450001</td>\n",
       "      <td>0.00</td>\n",
       "      <td>161.509995</td>\n",
       "      <td>58.540001</td>\n",
       "      <td>NaN</td>\n",
       "      <td>0.1</td>\n",
       "      <td>0.000000</td>\n",
       "      <td>0.000000</td>\n",
       "      <td>0.000000</td>\n",
       "      <td>0.000000</td>\n",
       "      <td>0.000000</td>\n",
       "      <td>0.000000</td>\n",
       "    </tr>\n",
       "    <tr>\n",
       "      <th>2100</th>\n",
       "      <td>33064.0</td>\n",
       "      <td>2016-08-12 02:07:34.200</td>\n",
       "      <td>66.660004</td>\n",
       "      <td>49.450001</td>\n",
       "      <td>0.00</td>\n",
       "      <td>161.509995</td>\n",
       "      <td>57.470001</td>\n",
       "      <td>NaN</td>\n",
       "      <td>0.1</td>\n",
       "      <td>0.000000</td>\n",
       "      <td>0.000000</td>\n",
       "      <td>0.000000</td>\n",
       "      <td>0.000000</td>\n",
       "      <td>0.000000</td>\n",
       "      <td>0.000000</td>\n",
       "    </tr>\n",
       "    <tr>\n",
       "      <th>2138</th>\n",
       "      <td>33064.0</td>\n",
       "      <td>2016-08-12 02:07:34.300</td>\n",
       "      <td>64.199997</td>\n",
       "      <td>51.049999</td>\n",
       "      <td>2.94</td>\n",
       "      <td>161.490005</td>\n",
       "      <td>303.010010</td>\n",
       "      <td>NaN</td>\n",
       "      <td>0.1</td>\n",
       "      <td>-2.460007</td>\n",
       "      <td>1.599998</td>\n",
       "      <td>2.683359</td>\n",
       "      <td>26.833594</td>\n",
       "      <td>26.833594</td>\n",
       "      <td>268.335944</td>\n",
       "    </tr>\n",
       "  </tbody>\n",
       "</table>\n",
       "</div>"
      ],
      "text/plain": [
       "       GSISID                    Time          x          y   dis           o  \\\n",
       "2041  33064.0 2016-08-12 02:07:33.900  66.660004  49.450001  0.00  161.539993   \n",
       "2069  33064.0 2016-08-12 02:07:34.000  66.660004  49.450001  0.00  161.520004   \n",
       "2088  33064.0 2016-08-12 02:07:34.100  66.660004  49.450001  0.00  161.509995   \n",
       "2100  33064.0 2016-08-12 02:07:34.200  66.660004  49.450001  0.00  161.509995   \n",
       "2138  33064.0 2016-08-12 02:07:34.300  64.199997  51.049999  2.94  161.490005   \n",
       "\n",
       "             dir Event   dt        dx        dy      dist      speed  \\\n",
       "2041   40.470001   NaN  0.1  0.000000  0.000000  0.000000   0.000000   \n",
       "2069   53.549999   NaN  0.1  0.000000  0.000000  0.000000   0.000000   \n",
       "2088   58.540001   NaN  0.1  0.000000  0.000000  0.000000   0.000000   \n",
       "2100   57.470001   NaN  0.1  0.000000  0.000000  0.000000   0.000000   \n",
       "2138  303.010010   NaN  0.1 -2.460007  1.599998  2.683359  26.833594   \n",
       "\n",
       "        d_speed       accel  \n",
       "2041   0.000000    0.000000  \n",
       "2069   0.000000    0.000000  \n",
       "2088   0.000000    0.000000  \n",
       "2100   0.000000    0.000000  \n",
       "2138  26.833594  268.335944  "
      ]
     },
     "execution_count": 69,
     "metadata": {},
     "output_type": "execute_result"
    }
   ],
   "source": [
    "temp.tail()"
   ]
  },
  {
   "cell_type": "code",
   "execution_count": 63,
   "metadata": {},
   "outputs": [
    {
     "name": "stdout",
     "output_type": "stream",
     "text": [
      "32460.0, 0.0\n",
      "31902.0, 0.0\n",
      "32776.0, 0.0\n",
      "32790.0, -13.515318346212846\n",
      "31079.0, 0.0\n",
      "26852.0, 0.0\n",
      "32482.0, 0.0\n",
      "31697.0, -0.9142465209960937\n",
      "32136.0, 0.0\n",
      "32471.0, 0.0\n",
      "32477.0, -0.9143773269654133\n",
      "32958.0, -13.166705757320107\n",
      "27718.0, 0.0\n",
      "32489.0, 0.0\n",
      "31209.0, -11.445510748546761\n",
      "31915.0, 0.0\n",
      "28284.0, -13.607060032890693\n",
      "31130.0, 0.0\n",
      "28041.0, 0.0\n",
      "33064.0, 0.0\n",
      "31057.0, 0.0\n",
      "32519.0, 0.0\n",
      "30705.0, 0.0\n"
     ]
    }
   ],
   "source": [
    "for x in ngs1['GSISID'].unique():\n",
    "    print(f\"{x}, {stats.mode(ngs1[ngs1['GSISID'] == x]['accel'])[0][0]}\")"
   ]
  },
  {
   "cell_type": "code",
   "execution_count": 64,
   "metadata": {},
   "outputs": [
    {
     "data": {
      "text/plain": [
       "ModeResult(mode=array([0.]), count=array([88]))"
      ]
     },
     "execution_count": 64,
     "metadata": {},
     "output_type": "execute_result"
    }
   ],
   "source": [
    "stats.mode(ngs1[ngs1['GSISID'] == 33064]['accel'])"
   ]
  },
  {
   "cell_type": "code",
   "execution_count": 65,
   "metadata": {},
   "outputs": [],
   "source": [
    "ngs1_clean = ngs1[ngs1['accel'] < 50]"
   ]
  },
  {
   "cell_type": "code",
   "execution_count": 68,
   "metadata": {},
   "outputs": [
    {
     "data": {
      "image/png": "[encoded data removed]",
      "text/plain": [
       "<Figure size 576x360 with 1 Axes>"
      ]
     },
     "metadata": {
      "needs_background": "light"
     },
     "output_type": "display_data"
    }
   ],
   "source": [
    "plt.figure(figsize=(8,5))\n",
    "inj_id = 31057\n",
    "for x in ngs1_clean['GSISID'].unique():\n",
    "    if x == inj_id:\n",
    "        c = 'r'\n",
    "        a = 0.8\n",
    "    else:\n",
    "        c = 'b'\n",
    "        a = 0.4\n",
    "    df = ngs1_clean[ngs1_clean['GSISID'] == x]\n",
    "    plt.plot(df['Time'], df['accel'], label=x, color=c, alpha=a)\n",
    "#     plt.legend()"
   ]
  },
  {
   "cell_type": "markdown",
   "metadata": {},
   "source": [
    "It's not just deceleration that determines injury"
   ]
  },
  {
   "cell_type": "code",
   "execution_count": null,
   "metadata": {},
   "outputs": [],
   "source": []
  }
 ],
 "metadata": {
  "kernelspec": {
   "display_name": "Python 3",
   "language": "python",
   "name": "python3"
  },
  "language_info": {
   "codemirror_mode": {
    "name": "ipython",
    "version": 3
   },
   "file_extension": ".py",
   "mimetype": "text/x-python",
   "name": "python",
   "nbconvert_exporter": "python",
   "pygments_lexer": "ipython3",
   "version": "3.6.6"
  }
 },
 "nbformat": 4,
 "nbformat_minor": 2
}
