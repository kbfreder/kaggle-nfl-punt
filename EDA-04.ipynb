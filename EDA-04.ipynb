{
 "cells": [
  {
   "cell_type": "code",
   "execution_count": 1,
   "metadata": {},
   "outputs": [],
   "source": [
    "import pandas as pd\n",
    "import matplotlib.pyplot as plt\n",
    "import numpy as np\n",
    "\n",
    "import scipy.stats as stats\n",
    "\n",
    "import util as u"
   ]
  },
  {
   "cell_type": "code",
   "execution_count": 2,
   "metadata": {},
   "outputs": [],
   "source": [
    "vr = pd.read_csv('Data/video_review.csv')\n",
    "pprd = pd.read_csv('Data/play_player_role_data.csv')\n",
    "ppd = pd.read_csv('Data/player_punt_data.csv')\n",
    "pi = pd.read_csv('Data/play_information.csv')\n",
    "gd = pd.read_csv('Data/game_data.csv')"
   ]
  },
  {
   "cell_type": "code",
   "execution_count": 108,
   "metadata": {},
   "outputs": [],
   "source": [
    "pos_cov = ['P','GL','GR','PPR','PC','PLW', 'PLT', 'PLG', 'PLS', 'PRG','PRT', 'PRW' ]\n",
    "pos_ret = ['PR','PFB','VL', 'VRo','VRi','PLR','PLM','PLL','PDR1', 'PDR2', 'PDR3', 'PDL3', 'PDL2', 'PDL1']"
   ]
  },
  {
   "cell_type": "code",
   "execution_count": 17,
   "metadata": {},
   "outputs": [
    {
     "data": {
      "text/html": [
       "<div>\n",
       "<style scoped>\n",
       "    .dataframe tbody tr th:only-of-type {\n",
       "        vertical-align: middle;\n",
       "    }\n",
       "\n",
       "    .dataframe tbody tr th {\n",
       "        vertical-align: top;\n",
       "    }\n",
       "\n",
       "    .dataframe thead th {\n",
       "        text-align: right;\n",
       "    }\n",
       "</style>\n",
       "<table border=\"1\" class=\"dataframe\">\n",
       "  <thead>\n",
       "    <tr style=\"text-align: right;\">\n",
       "      <th></th>\n",
       "      <th>Season_Year</th>\n",
       "      <th>GameKey</th>\n",
       "      <th>PlayID</th>\n",
       "      <th>GSISID</th>\n",
       "      <th>Player_Activity_Derived</th>\n",
       "      <th>Turnover_Related</th>\n",
       "      <th>Primary_Impact_Type</th>\n",
       "      <th>Primary_Partner_GSISID</th>\n",
       "      <th>Primary_Partner_Activity_Derived</th>\n",
       "      <th>Friendly_Fire</th>\n",
       "    </tr>\n",
       "  </thead>\n",
       "  <tbody>\n",
       "    <tr>\n",
       "      <th>0</th>\n",
       "      <td>2016</td>\n",
       "      <td>5</td>\n",
       "      <td>3129</td>\n",
       "      <td>31057</td>\n",
       "      <td>Tackling</td>\n",
       "      <td>No</td>\n",
       "      <td>Helmet-to-body</td>\n",
       "      <td>32482</td>\n",
       "      <td>Tackled</td>\n",
       "      <td>No</td>\n",
       "    </tr>\n",
       "    <tr>\n",
       "      <th>1</th>\n",
       "      <td>2016</td>\n",
       "      <td>21</td>\n",
       "      <td>2587</td>\n",
       "      <td>29343</td>\n",
       "      <td>Blocked</td>\n",
       "      <td>No</td>\n",
       "      <td>Helmet-to-helmet</td>\n",
       "      <td>31059</td>\n",
       "      <td>Blocking</td>\n",
       "      <td>No</td>\n",
       "    </tr>\n",
       "    <tr>\n",
       "      <th>2</th>\n",
       "      <td>2016</td>\n",
       "      <td>29</td>\n",
       "      <td>538</td>\n",
       "      <td>31023</td>\n",
       "      <td>Tackling</td>\n",
       "      <td>No</td>\n",
       "      <td>Helmet-to-body</td>\n",
       "      <td>31941</td>\n",
       "      <td>Tackled</td>\n",
       "      <td>No</td>\n",
       "    </tr>\n",
       "    <tr>\n",
       "      <th>3</th>\n",
       "      <td>2016</td>\n",
       "      <td>45</td>\n",
       "      <td>1212</td>\n",
       "      <td>33121</td>\n",
       "      <td>Tackling</td>\n",
       "      <td>No</td>\n",
       "      <td>Helmet-to-body</td>\n",
       "      <td>28249</td>\n",
       "      <td>Tackled</td>\n",
       "      <td>No</td>\n",
       "    </tr>\n",
       "    <tr>\n",
       "      <th>4</th>\n",
       "      <td>2016</td>\n",
       "      <td>54</td>\n",
       "      <td>1045</td>\n",
       "      <td>32444</td>\n",
       "      <td>Blocked</td>\n",
       "      <td>No</td>\n",
       "      <td>Helmet-to-body</td>\n",
       "      <td>31756</td>\n",
       "      <td>Blocked</td>\n",
       "      <td>Yes</td>\n",
       "    </tr>\n",
       "  </tbody>\n",
       "</table>\n",
       "</div>"
      ],
      "text/plain": [
       "   Season_Year  GameKey  PlayID  GSISID Player_Activity_Derived  \\\n",
       "0         2016        5    3129   31057                Tackling   \n",
       "1         2016       21    2587   29343                 Blocked   \n",
       "2         2016       29     538   31023                Tackling   \n",
       "3         2016       45    1212   33121                Tackling   \n",
       "4         2016       54    1045   32444                 Blocked   \n",
       "\n",
       "  Turnover_Related Primary_Impact_Type Primary_Partner_GSISID  \\\n",
       "0               No      Helmet-to-body                  32482   \n",
       "1               No    Helmet-to-helmet                  31059   \n",
       "2               No      Helmet-to-body                  31941   \n",
       "3               No      Helmet-to-body                  28249   \n",
       "4               No      Helmet-to-body                  31756   \n",
       "\n",
       "  Primary_Partner_Activity_Derived Friendly_Fire  \n",
       "0                          Tackled            No  \n",
       "1                         Blocking            No  \n",
       "2                          Tackled            No  \n",
       "3                          Tackled            No  \n",
       "4                          Blocked           Yes  "
      ]
     },
     "execution_count": 17,
     "metadata": {},
     "output_type": "execute_result"
    }
   ],
   "source": [
    "vr.head()"
   ]
  },
  {
   "cell_type": "code",
   "execution_count": 45,
   "metadata": {},
   "outputs": [
    {
     "data": {
      "text/plain": [
       "37"
      ]
     },
     "execution_count": 45,
     "metadata": {},
     "output_type": "execute_result"
    }
   ],
   "source": [
    "len(vr)"
   ]
  },
  {
   "cell_type": "markdown",
   "metadata": {},
   "source": [
    "### Merge df's to get player role in punt play and normal position"
   ]
  },
  {
   "cell_type": "markdown",
   "metadata": {},
   "source": [
    "Injured player"
   ]
  },
  {
   "cell_type": "code",
   "execution_count": 112,
   "metadata": {},
   "outputs": [],
   "source": [
    "df1 = pd.merge(vr, pprd.drop(columns='Season_Year'), how='left', on=['GameKey', 'PlayID', 'GSISID'], copy=False)\n",
    "\n",
    "df1 = pd.merge(df1, ppd, how='left', on='GSISID', copy=False)\n",
    "\n",
    "\n",
    "# there are duplicate entries in the ppd table -- player's number is discrepant between the entries. Drop one\n",
    "df1.drop_duplicates(subset=['GameKey', 'PlayID', 'GSISID'], inplace=True)\n",
    "\n",
    "df1['Team'] = df1['Role'].apply(lambda x: 'Coverage' if x in pos_cov else 'Return')"
   ]
  },
  {
   "cell_type": "markdown",
   "metadata": {},
   "source": [
    "Primary Partner"
   ]
  },
  {
   "cell_type": "code",
   "execution_count": 116,
   "metadata": {},
   "outputs": [],
   "source": [
    "vr['Primary_Partner_GSISID'] = pd.to_numeric(vr['Primary_Partner_GSISID'], errors='coerce')\n",
    "\n",
    "df2 = pd.merge(vr, pprd.drop(columns='Season_Year'), how='left', left_on=['GameKey', 'PlayID', 'Primary_Partner_GSISID'], \n",
    "               right_on=['GameKey', 'PlayID', 'GSISID'], suffixes=('','_partner'), copy=False)\n",
    "\n",
    "df2 = pd.merge(df2, ppd, how='left', left_on=['Primary_Partner_GSISID'],\n",
    "                                right_on=['GSISID'], suffixes=('','_partner'), copy=False)\n",
    "\n",
    "df2.drop(columns=['Season_Year', 'GSISID', 'Player_Activity_Derived',\n",
    "       'Turnover_Related', 'Primary_Impact_Type', \n",
    "       'Primary_Partner_Activity_Derived', 'Friendly_Fire', 'GSISID_partner'], inplace=True)\n",
    "\n",
    "# there are duplicate entries in the ppd table -- player's number is discrepant between the entries. Drop one\n",
    "df2.drop_duplicates(subset=['GameKey', 'PlayID', 'Primary_Partner_GSISID'], inplace=True)\n",
    "\n",
    "df2['Team'] = df2['Role'].apply(lambda x: 'Coverage' if x in pos_cov else 'Return')"
   ]
  },
  {
   "cell_type": "markdown",
   "metadata": {},
   "source": [
    "Merge into one df"
   ]
  },
  {
   "cell_type": "code",
   "execution_count": 125,
   "metadata": {},
   "outputs": [],
   "source": [
    "df3 = pd.merge(df1, df2, how='left', on=['GameKey', 'PlayID'], suffixes=('','_partner'), copy=False)\n",
    "\n",
    "df3.drop(columns='Primary_Partner_GSISID_partner', inplace=True)\n",
    "\n",
    "pi_cols_to_drop = ['Season_Year', 'Season_Type', 'Game_Date', 'Week',\n",
    "       'Quarter', 'Play_Type', 'Poss_Team',\n",
    "       'Home_Team_Visit_Team', 'PlayDescription']\n",
    "\n",
    "df3 = pd.merge(df3, pi.drop(columns=pi_cols_to_drop), how='left', on=['GameKey', 'PlayID'], copy=False)"
   ]
  },
  {
   "cell_type": "code",
   "execution_count": 127,
   "metadata": {},
   "outputs": [],
   "source": [
    "u.pkl_this('Output/injury_data_with_positions.pkl', df3)\n",
    "# df1 = u.open_pkl('Output/injury_data_with_positions.pkl')"
   ]
  }
 ],
 "metadata": {
  "kernelspec": {
   "display_name": "Python 3",
   "language": "python",
   "name": "python3"
  },
  "language_info": {
   "codemirror_mode": {
    "name": "ipython",
    "version": 3
   },
   "file_extension": ".py",
   "mimetype": "text/x-python",
   "name": "python",
   "nbconvert_exporter": "python",
   "pygments_lexer": "ipython3",
   "version": "3.6.6"
  }
 },
 "nbformat": 4,
 "nbformat_minor": 2
}
