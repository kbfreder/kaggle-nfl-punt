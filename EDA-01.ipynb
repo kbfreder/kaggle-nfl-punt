{
 "cells": [
  {
   "cell_type": "code",
   "execution_count": 1,
   "metadata": {},
   "outputs": [],
   "source": [
    "import pandas as pd"
   ]
  },
  {
   "cell_type": "code",
   "execution_count": 2,
   "metadata": {},
   "outputs": [],
   "source": [
    "vr = pd.read_csv('video_review.csv')"
   ]
  },
  {
   "cell_type": "code",
   "execution_count": 5,
   "metadata": {},
   "outputs": [],
   "source": [
    "pprd = pd.read_csv('play_player_role_data.csv')"
   ]
  },
  {
   "cell_type": "code",
   "execution_count": 14,
   "metadata": {},
   "outputs": [
    {
     "data": {
      "text/html": [
       "<div>\n",
       "<style scoped>\n",
       "    .dataframe tbody tr th:only-of-type {\n",
       "        vertical-align: middle;\n",
       "    }\n",
       "\n",
       "    .dataframe tbody tr th {\n",
       "        vertical-align: top;\n",
       "    }\n",
       "\n",
       "    .dataframe thead th {\n",
       "        text-align: right;\n",
       "    }\n",
       "</style>\n",
       "<table border=\"1\" class=\"dataframe\">\n",
       "  <thead>\n",
       "    <tr style=\"text-align: right;\">\n",
       "      <th></th>\n",
       "      <th>Season_Year</th>\n",
       "      <th>GameKey</th>\n",
       "      <th>PlayID</th>\n",
       "      <th>GSISID</th>\n",
       "      <th>Player_Activity_Derived</th>\n",
       "      <th>Turnover_Related</th>\n",
       "      <th>Primary_Impact_Type</th>\n",
       "      <th>Primary_Partner_GSISID</th>\n",
       "      <th>Primary_Partner_Activity_Derived</th>\n",
       "      <th>Friendly_Fire</th>\n",
       "    </tr>\n",
       "  </thead>\n",
       "  <tbody>\n",
       "    <tr>\n",
       "      <th>0</th>\n",
       "      <td>2016</td>\n",
       "      <td>5</td>\n",
       "      <td>3129</td>\n",
       "      <td>31057</td>\n",
       "      <td>Tackling</td>\n",
       "      <td>No</td>\n",
       "      <td>Helmet-to-body</td>\n",
       "      <td>32482</td>\n",
       "      <td>Tackled</td>\n",
       "      <td>No</td>\n",
       "    </tr>\n",
       "    <tr>\n",
       "      <th>1</th>\n",
       "      <td>2016</td>\n",
       "      <td>21</td>\n",
       "      <td>2587</td>\n",
       "      <td>29343</td>\n",
       "      <td>Blocked</td>\n",
       "      <td>No</td>\n",
       "      <td>Helmet-to-helmet</td>\n",
       "      <td>31059</td>\n",
       "      <td>Blocking</td>\n",
       "      <td>No</td>\n",
       "    </tr>\n",
       "    <tr>\n",
       "      <th>2</th>\n",
       "      <td>2016</td>\n",
       "      <td>29</td>\n",
       "      <td>538</td>\n",
       "      <td>31023</td>\n",
       "      <td>Tackling</td>\n",
       "      <td>No</td>\n",
       "      <td>Helmet-to-body</td>\n",
       "      <td>31941</td>\n",
       "      <td>Tackled</td>\n",
       "      <td>No</td>\n",
       "    </tr>\n",
       "    <tr>\n",
       "      <th>3</th>\n",
       "      <td>2016</td>\n",
       "      <td>45</td>\n",
       "      <td>1212</td>\n",
       "      <td>33121</td>\n",
       "      <td>Tackling</td>\n",
       "      <td>No</td>\n",
       "      <td>Helmet-to-body</td>\n",
       "      <td>28249</td>\n",
       "      <td>Tackled</td>\n",
       "      <td>No</td>\n",
       "    </tr>\n",
       "    <tr>\n",
       "      <th>4</th>\n",
       "      <td>2016</td>\n",
       "      <td>54</td>\n",
       "      <td>1045</td>\n",
       "      <td>32444</td>\n",
       "      <td>Blocked</td>\n",
       "      <td>No</td>\n",
       "      <td>Helmet-to-body</td>\n",
       "      <td>31756</td>\n",
       "      <td>Blocked</td>\n",
       "      <td>Yes</td>\n",
       "    </tr>\n",
       "  </tbody>\n",
       "</table>\n",
       "</div>"
      ],
      "text/plain": [
       "   Season_Year  GameKey  PlayID  GSISID Player_Activity_Derived  \\\n",
       "0         2016        5    3129   31057                Tackling   \n",
       "1         2016       21    2587   29343                 Blocked   \n",
       "2         2016       29     538   31023                Tackling   \n",
       "3         2016       45    1212   33121                Tackling   \n",
       "4         2016       54    1045   32444                 Blocked   \n",
       "\n",
       "  Turnover_Related Primary_Impact_Type Primary_Partner_GSISID  \\\n",
       "0               No      Helmet-to-body                  32482   \n",
       "1               No    Helmet-to-helmet                  31059   \n",
       "2               No      Helmet-to-body                  31941   \n",
       "3               No      Helmet-to-body                  28249   \n",
       "4               No      Helmet-to-body                  31756   \n",
       "\n",
       "  Primary_Partner_Activity_Derived Friendly_Fire  \n",
       "0                          Tackled            No  \n",
       "1                         Blocking            No  \n",
       "2                          Tackled            No  \n",
       "3                          Tackled            No  \n",
       "4                          Blocked           Yes  "
      ]
     },
     "execution_count": 14,
     "metadata": {},
     "output_type": "execute_result"
    }
   ],
   "source": [
    "vr.head()"
   ]
  },
  {
   "cell_type": "code",
   "execution_count": 7,
   "metadata": {},
   "outputs": [
    {
     "data": {
      "text/html": [
       "<div>\n",
       "<style scoped>\n",
       "    .dataframe tbody tr th:only-of-type {\n",
       "        vertical-align: middle;\n",
       "    }\n",
       "\n",
       "    .dataframe tbody tr th {\n",
       "        vertical-align: top;\n",
       "    }\n",
       "\n",
       "    .dataframe thead th {\n",
       "        text-align: right;\n",
       "    }\n",
       "</style>\n",
       "<table border=\"1\" class=\"dataframe\">\n",
       "  <thead>\n",
       "    <tr style=\"text-align: right;\">\n",
       "      <th></th>\n",
       "      <th>Season_Year</th>\n",
       "      <th>GameKey</th>\n",
       "      <th>PlayID</th>\n",
       "      <th>GSISID</th>\n",
       "      <th>Role</th>\n",
       "    </tr>\n",
       "  </thead>\n",
       "  <tbody>\n",
       "    <tr>\n",
       "      <th>0</th>\n",
       "      <td>2017</td>\n",
       "      <td>414</td>\n",
       "      <td>188</td>\n",
       "      <td>33704</td>\n",
       "      <td>PDL2</td>\n",
       "    </tr>\n",
       "    <tr>\n",
       "      <th>1</th>\n",
       "      <td>2017</td>\n",
       "      <td>414</td>\n",
       "      <td>1107</td>\n",
       "      <td>33704</td>\n",
       "      <td>PDL2</td>\n",
       "    </tr>\n",
       "    <tr>\n",
       "      <th>2</th>\n",
       "      <td>2017</td>\n",
       "      <td>424</td>\n",
       "      <td>1113</td>\n",
       "      <td>33704</td>\n",
       "      <td>PDR3</td>\n",
       "    </tr>\n",
       "    <tr>\n",
       "      <th>3</th>\n",
       "      <td>2017</td>\n",
       "      <td>424</td>\n",
       "      <td>1454</td>\n",
       "      <td>33704</td>\n",
       "      <td>PLR2</td>\n",
       "    </tr>\n",
       "    <tr>\n",
       "      <th>4</th>\n",
       "      <td>2017</td>\n",
       "      <td>424</td>\n",
       "      <td>644</td>\n",
       "      <td>33704</td>\n",
       "      <td>PRG</td>\n",
       "    </tr>\n",
       "  </tbody>\n",
       "</table>\n",
       "</div>"
      ],
      "text/plain": [
       "   Season_Year  GameKey  PlayID  GSISID  Role\n",
       "0         2017      414     188   33704  PDL2\n",
       "1         2017      414    1107   33704  PDL2\n",
       "2         2017      424    1113   33704  PDR3\n",
       "3         2017      424    1454   33704  PLR2\n",
       "4         2017      424     644   33704   PRG"
      ]
     },
     "execution_count": 7,
     "metadata": {},
     "output_type": "execute_result"
    }
   ],
   "source": [
    "pprd.head()"
   ]
  },
  {
   "cell_type": "code",
   "execution_count": 9,
   "metadata": {},
   "outputs": [],
   "source": [
    "pi = pd.read_csv('play_information.csv')"
   ]
  },
  {
   "cell_type": "code",
   "execution_count": 10,
   "metadata": {},
   "outputs": [
    {
     "data": {
      "text/html": [
       "<div>\n",
       "<style scoped>\n",
       "    .dataframe tbody tr th:only-of-type {\n",
       "        vertical-align: middle;\n",
       "    }\n",
       "\n",
       "    .dataframe tbody tr th {\n",
       "        vertical-align: top;\n",
       "    }\n",
       "\n",
       "    .dataframe thead th {\n",
       "        text-align: right;\n",
       "    }\n",
       "</style>\n",
       "<table border=\"1\" class=\"dataframe\">\n",
       "  <thead>\n",
       "    <tr style=\"text-align: right;\">\n",
       "      <th></th>\n",
       "      <th>Season_Year</th>\n",
       "      <th>Season_Type</th>\n",
       "      <th>GameKey</th>\n",
       "      <th>Game_Date</th>\n",
       "      <th>Week</th>\n",
       "      <th>PlayID</th>\n",
       "      <th>Game_Clock</th>\n",
       "      <th>YardLine</th>\n",
       "      <th>Quarter</th>\n",
       "      <th>Play_Type</th>\n",
       "      <th>Poss_Team</th>\n",
       "      <th>Home_Team_Visit_Team</th>\n",
       "      <th>Score_Home_Visiting</th>\n",
       "      <th>PlayDescription</th>\n",
       "    </tr>\n",
       "  </thead>\n",
       "  <tbody>\n",
       "    <tr>\n",
       "      <th>0</th>\n",
       "      <td>2016</td>\n",
       "      <td>Pre</td>\n",
       "      <td>2</td>\n",
       "      <td>08/13/2016</td>\n",
       "      <td>2</td>\n",
       "      <td>191</td>\n",
       "      <td>12:30</td>\n",
       "      <td>LA 47</td>\n",
       "      <td>1</td>\n",
       "      <td>Punt</td>\n",
       "      <td>LA</td>\n",
       "      <td>LA-DAL</td>\n",
       "      <td>0 - 7</td>\n",
       "      <td>(12:30) J.Hekker punts 52 yards to DAL 1, Cent...</td>\n",
       "    </tr>\n",
       "    <tr>\n",
       "      <th>1</th>\n",
       "      <td>2016</td>\n",
       "      <td>Pre</td>\n",
       "      <td>2</td>\n",
       "      <td>08/13/2016</td>\n",
       "      <td>2</td>\n",
       "      <td>1132</td>\n",
       "      <td>12:08</td>\n",
       "      <td>LA 29</td>\n",
       "      <td>2</td>\n",
       "      <td>Punt</td>\n",
       "      <td>LA</td>\n",
       "      <td>LA-DAL</td>\n",
       "      <td>7 - 21</td>\n",
       "      <td>(12:08) J.Hekker punts 51 yards to DAL 20, Cen...</td>\n",
       "    </tr>\n",
       "    <tr>\n",
       "      <th>2</th>\n",
       "      <td>2016</td>\n",
       "      <td>Pre</td>\n",
       "      <td>2</td>\n",
       "      <td>08/13/2016</td>\n",
       "      <td>2</td>\n",
       "      <td>1227</td>\n",
       "      <td>10:01</td>\n",
       "      <td>DAL 18</td>\n",
       "      <td>2</td>\n",
       "      <td>Punt</td>\n",
       "      <td>DAL</td>\n",
       "      <td>LA-DAL</td>\n",
       "      <td>7 - 21</td>\n",
       "      <td>(10:01) C.Jones punts 40 yards to LA 42, Cente...</td>\n",
       "    </tr>\n",
       "    <tr>\n",
       "      <th>3</th>\n",
       "      <td>2016</td>\n",
       "      <td>Pre</td>\n",
       "      <td>2</td>\n",
       "      <td>08/13/2016</td>\n",
       "      <td>2</td>\n",
       "      <td>1864</td>\n",
       "      <td>00:21</td>\n",
       "      <td>DAL 46</td>\n",
       "      <td>2</td>\n",
       "      <td>Punt</td>\n",
       "      <td>LA</td>\n",
       "      <td>LA-DAL</td>\n",
       "      <td>7 - 24</td>\n",
       "      <td>(:21) J.Hekker punts 31 yards to DAL 15, Cente...</td>\n",
       "    </tr>\n",
       "    <tr>\n",
       "      <th>4</th>\n",
       "      <td>2016</td>\n",
       "      <td>Pre</td>\n",
       "      <td>2</td>\n",
       "      <td>08/13/2016</td>\n",
       "      <td>2</td>\n",
       "      <td>2247</td>\n",
       "      <td>10:26</td>\n",
       "      <td>DAL 15</td>\n",
       "      <td>3</td>\n",
       "      <td>Punt</td>\n",
       "      <td>DAL</td>\n",
       "      <td>LA-DAL</td>\n",
       "      <td>14 - 24</td>\n",
       "      <td>(10:26) M.Wile punts 40 yards to LA 45, Center...</td>\n",
       "    </tr>\n",
       "  </tbody>\n",
       "</table>\n",
       "</div>"
      ],
      "text/plain": [
       "   Season_Year Season_Type  GameKey   Game_Date  Week  PlayID Game_Clock  \\\n",
       "0         2016         Pre        2  08/13/2016     2     191      12:30   \n",
       "1         2016         Pre        2  08/13/2016     2    1132      12:08   \n",
       "2         2016         Pre        2  08/13/2016     2    1227      10:01   \n",
       "3         2016         Pre        2  08/13/2016     2    1864      00:21   \n",
       "4         2016         Pre        2  08/13/2016     2    2247      10:26   \n",
       "\n",
       "  YardLine  Quarter Play_Type Poss_Team Home_Team_Visit_Team  \\\n",
       "0    LA 47        1      Punt        LA               LA-DAL   \n",
       "1    LA 29        2      Punt        LA               LA-DAL   \n",
       "2   DAL 18        2      Punt       DAL               LA-DAL   \n",
       "3   DAL 46        2      Punt        LA               LA-DAL   \n",
       "4   DAL 15        3      Punt       DAL               LA-DAL   \n",
       "\n",
       "  Score_Home_Visiting                                    PlayDescription  \n",
       "0               0 - 7  (12:30) J.Hekker punts 52 yards to DAL 1, Cent...  \n",
       "1              7 - 21  (12:08) J.Hekker punts 51 yards to DAL 20, Cen...  \n",
       "2              7 - 21  (10:01) C.Jones punts 40 yards to LA 42, Cente...  \n",
       "3              7 - 24  (:21) J.Hekker punts 31 yards to DAL 15, Cente...  \n",
       "4             14 - 24  (10:26) M.Wile punts 40 yards to LA 45, Center...  "
      ]
     },
     "execution_count": 10,
     "metadata": {},
     "output_type": "execute_result"
    }
   ],
   "source": [
    "pi.head()"
   ]
  },
  {
   "cell_type": "code",
   "execution_count": 4,
   "metadata": {},
   "outputs": [
    {
     "name": "stdout",
     "output_type": "stream",
     "text": [
      "<class 'pandas.core.frame.DataFrame'>\n",
      "RangeIndex: 37 entries, 0 to 36\n",
      "Data columns (total 10 columns):\n",
      "Season_Year                         37 non-null int64\n",
      "GameKey                             37 non-null int64\n",
      "PlayID                              37 non-null int64\n",
      "GSISID                              37 non-null int64\n",
      "Player_Activity_Derived             37 non-null object\n",
      "Turnover_Related                    37 non-null object\n",
      "Primary_Impact_Type                 37 non-null object\n",
      "Primary_Partner_GSISID              34 non-null object\n",
      "Primary_Partner_Activity_Derived    35 non-null object\n",
      "Friendly_Fire                       35 non-null object\n",
      "dtypes: int64(4), object(6)\n",
      "memory usage: 3.0+ KB\n"
     ]
    }
   ],
   "source": [
    "vr.info()"
   ]
  },
  {
   "cell_type": "code",
   "execution_count": 7,
   "metadata": {},
   "outputs": [
    {
     "data": {
      "text/plain": [
       "Helmet-to-body      0.459459\n",
       "Helmet-to-helmet    0.459459\n",
       "Helmet-to-ground    0.054054\n",
       "Unclear             0.027027\n",
       "Name: Primary_Impact_Type, dtype: float64"
      ]
     },
     "execution_count": 7,
     "metadata": {},
     "output_type": "execute_result"
    }
   ],
   "source": [
    "vr['Primary_Impact_Type'].value_counts(1)"
   ]
  },
  {
   "cell_type": "markdown",
   "metadata": {},
   "source": [
    "Helmet-to-ground account for only 5% of concussions"
   ]
  },
  {
   "cell_type": "code",
   "execution_count": 8,
   "metadata": {},
   "outputs": [
    {
     "data": {
      "text/plain": [
       "Tackling    0.351351\n",
       "Blocked     0.270270\n",
       "Blocking    0.216216\n",
       "Tackled     0.162162\n",
       "Name: Player_Activity_Derived, dtype: float64"
      ]
     },
     "execution_count": 8,
     "metadata": {},
     "output_type": "execute_result"
    }
   ],
   "source": [
    "vr['Player_Activity_Derived'].value_counts(1)"
   ]
  },
  {
   "cell_type": "code",
   "execution_count": 9,
   "metadata": {},
   "outputs": [
    {
     "data": {
      "text/plain": [
       "Tackling    0.285714\n",
       "Blocked     0.285714\n",
       "Tackled     0.228571\n",
       "Blocking    0.171429\n",
       "Unclear     0.028571\n",
       "Name: Primary_Partner_Activity_Derived, dtype: float64"
      ]
     },
     "execution_count": 9,
     "metadata": {},
     "output_type": "execute_result"
    }
   ],
   "source": [
    "vr['Primary_Partner_Activity_Derived'].value_counts(1)"
   ]
  },
  {
   "cell_type": "code",
   "execution_count": 10,
   "metadata": {},
   "outputs": [
    {
     "data": {
      "text/plain": [
       "No         0.800000\n",
       "Yes        0.171429\n",
       "Unclear    0.028571\n",
       "Name: Friendly_Fire, dtype: float64"
      ]
     },
     "execution_count": 10,
     "metadata": {},
     "output_type": "execute_result"
    }
   ],
   "source": [
    "vr['Friendly_Fire'].value_counts(1)"
   ]
  },
  {
   "cell_type": "code",
   "execution_count": 11,
   "metadata": {},
   "outputs": [
    {
     "data": {
      "text/plain": [
       "No    1.0\n",
       "Name: Turnover_Related, dtype: float64"
      ]
     },
     "execution_count": 11,
     "metadata": {},
     "output_type": "execute_result"
    }
   ],
   "source": [
    "vr['Turnover_Related'].value_counts(1)"
   ]
  },
  {
   "cell_type": "markdown",
   "metadata": {},
   "source": [
    "### pull out data for first injury in video_review table"
   ]
  },
  {
   "cell_type": "code",
   "execution_count": 15,
   "metadata": {},
   "outputs": [
    {
     "data": {
      "text/plain": [
       "Season_Year                                   2016\n",
       "GameKey                                          5\n",
       "PlayID                                        3129\n",
       "GSISID                                       31057\n",
       "Player_Activity_Derived                   Tackling\n",
       "Turnover_Related                                No\n",
       "Primary_Impact_Type                 Helmet-to-body\n",
       "Primary_Partner_GSISID                       32482\n",
       "Primary_Partner_Activity_Derived           Tackled\n",
       "Friendly_Fire                                   No\n",
       "Name: 0, dtype: object"
      ]
     },
     "execution_count": 15,
     "metadata": {},
     "output_type": "execute_result"
    }
   ],
   "source": [
    "vr.loc[0]"
   ]
  }
 ],
 "metadata": {
  "kernelspec": {
   "display_name": "Python 3",
   "language": "python",
   "name": "python3"
  },
  "language_info": {
   "codemirror_mode": {
    "name": "ipython",
    "version": 3
   },
   "file_extension": ".py",
   "mimetype": "text/x-python",
   "name": "python",
   "nbconvert_exporter": "python",
   "pygments_lexer": "ipython3",
   "version": "3.6.6"
  }
 },
 "nbformat": 4,
 "nbformat_minor": 2
}
